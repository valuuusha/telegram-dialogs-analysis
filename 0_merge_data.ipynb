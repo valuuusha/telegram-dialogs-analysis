{
 "cells": [
  {
   "cell_type": "code",
   "execution_count": 1,
   "id": "09b4e301",
   "metadata": {},
   "outputs": [],
   "source": [
    "import os\n",
    "import pandas as pd\n",
    "import glob"
   ]
  },
  {
   "cell_type": "code",
   "execution_count": 7,
   "id": "d076df7c",
   "metadata": {},
   "outputs": [],
   "source": [
    "DIALOGS_DATA_PATH = \"../data/dialogs\"\n",
    "DIALOGS_META_DATA_PATH = \"../data/dialogs_meta\"\n",
    "\n",
    "MERGED_DATA_PATH = \"../data/merged_data\""
   ]
  },
  {
   "cell_type": "code",
   "execution_count": 10,
   "id": "65a13565",
   "metadata": {},
   "outputs": [
    {
     "name": "stdout",
     "output_type": "stream",
     "text": [
      " Volume in drive C is OS\n",
      " Volume Serial Number is 0408-B554\n",
      "\n",
      " Directory of C:\\Users\\Vale\\data\n",
      "\n",
      "25.10.2024  19:31    <DIR>          .\n",
      "26.10.2024  10:52    <DIR>          ..\n",
      "25.10.2024  21:11    <DIR>          dialogs\n",
      "25.10.2024  19:53    <DIR>          dialogs_meta\n",
      "               0 File(s)              0 bytes\n",
      "               4 Dir(s)  65я800я040я448 bytes free\n"
     ]
    }
   ],
   "source": [
    "!dir \"..\\data\""
   ]
  },
  {
   "cell_type": "code",
   "execution_count": 16,
   "id": "6d0eddab",
   "metadata": {},
   "outputs": [],
   "source": [
    "dialogs_data_files = glob.glob(f\"{DIALOGS_DATA_PATH}/*.csv\")\n",
    "dialogs_meta_data_files = glob.glob(f\"{DIALOGS_META_DATA_PATH}/*.json\")"
   ]
  },
  {
   "cell_type": "markdown",
   "id": "78cc73b6",
   "metadata": {},
   "source": [
    "## merging all dialogs_data (csv files) into one"
   ]
  },
  {
   "cell_type": "code",
   "execution_count": 17,
   "id": "4d582c3b",
   "metadata": {},
   "outputs": [],
   "source": [
    "df_array = []\n",
    "\n",
    "for d in dialogs_data_files:\n",
    "    local_df = pd.read_csv(d)\n",
    "    local_df[\"dialog_id\"] = os.path.basename(d).split(\".\")[0]\n",
    "    \n",
    "    df_array.append(local_df)\n",
    "    \n",
    "df = pd.concat(df_array, ignore_index=True)"
   ]
  },
  {
   "cell_type": "code",
   "execution_count": 13,
   "id": "4d83eb47",
   "metadata": {},
   "outputs": [
    {
     "data": {
      "text/plain": [
       "(1694041, 10)"
      ]
     },
     "execution_count": 13,
     "metadata": {},
     "output_type": "execute_result"
    }
   ],
   "source": [
    "df.shape"
   ]
  },
  {
   "cell_type": "code",
   "execution_count": 18,
   "id": "96e470a8",
   "metadata": {},
   "outputs": [],
   "source": [
    "if not os.path.isdir(MERGED_DATA_PATH):\n",
    "    os.mkdir(MERGED_DATA_PATH)\n",
    "\n",
    "if \"Unnamed: 0\" in df:\n",
    "    df = df.drop([\"Unnamed: 0\"], axis=True)\n",
    "    \n",
    "df.to_csv(f\"{MERGED_DATA_PATH}/dialogs_data_all.csv\", index=False)"
   ]
  },
  {
   "cell_type": "code",
   "execution_count": 19,
   "id": "16776850",
   "metadata": {},
   "outputs": [
    {
     "data": {
      "text/plain": [
       "(1694041, 9)"
      ]
     },
     "execution_count": 19,
     "metadata": {},
     "output_type": "execute_result"
    }
   ],
   "source": [
    "df.shape"
   ]
  },
  {
   "cell_type": "code",
   "execution_count": 20,
   "id": "4672e8ce",
   "metadata": {},
   "outputs": [
    {
     "data": {
      "text/html": [
       "<div>\n",
       "<style scoped>\n",
       "    .dataframe tbody tr th:only-of-type {\n",
       "        vertical-align: middle;\n",
       "    }\n",
       "\n",
       "    .dataframe tbody tr th {\n",
       "        vertical-align: top;\n",
       "    }\n",
       "\n",
       "    .dataframe thead th {\n",
       "        text-align: right;\n",
       "    }\n",
       "</style>\n",
       "<table border=\"1\" class=\"dataframe\">\n",
       "  <thead>\n",
       "    <tr style=\"text-align: right;\">\n",
       "      <th></th>\n",
       "      <th>id</th>\n",
       "      <th>date</th>\n",
       "      <th>from_id</th>\n",
       "      <th>to_id</th>\n",
       "      <th>fwd_from</th>\n",
       "      <th>message</th>\n",
       "      <th>type</th>\n",
       "      <th>duration</th>\n",
       "      <th>dialog_id</th>\n",
       "    </tr>\n",
       "  </thead>\n",
       "  <tbody>\n",
       "    <tr>\n",
       "      <th>0</th>\n",
       "      <td>382863</td>\n",
       "      <td>2024-10-25 17:01:53+00:00</td>\n",
       "      <td>PeerUser(user_id=599821131)</td>\n",
       "      <td>PeerChannel(channel_id=1142723513)</td>\n",
       "      <td>NaN</td>\n",
       "      <td>🐵</td>\n",
       "      <td>sticker</td>\n",
       "      <td>NaN</td>\n",
       "      <td>-1001142723513</td>\n",
       "    </tr>\n",
       "    <tr>\n",
       "      <th>1</th>\n",
       "      <td>382862</td>\n",
       "      <td>2024-10-25 17:01:23+00:00</td>\n",
       "      <td>PeerUser(user_id=256994245)</td>\n",
       "      <td>PeerChannel(channel_id=1142723513)</td>\n",
       "      <td>NaN</td>\n",
       "      <td>🤺</td>\n",
       "      <td>sticker</td>\n",
       "      <td>NaN</td>\n",
       "      <td>-1001142723513</td>\n",
       "    </tr>\n",
       "    <tr>\n",
       "      <th>2</th>\n",
       "      <td>382860</td>\n",
       "      <td>2024-10-25 17:01:11+00:00</td>\n",
       "      <td>PeerUser(user_id=599821131)</td>\n",
       "      <td>PeerChannel(channel_id=1142723513)</td>\n",
       "      <td>NaN</td>\n",
       "      <td>небо все тобі дасть</td>\n",
       "      <td>text</td>\n",
       "      <td>NaN</td>\n",
       "      <td>-1001142723513</td>\n",
       "    </tr>\n",
       "    <tr>\n",
       "      <th>3</th>\n",
       "      <td>382859</td>\n",
       "      <td>2024-10-25 17:01:03+00:00</td>\n",
       "      <td>PeerUser(user_id=599821131)</td>\n",
       "      <td>PeerChannel(channel_id=1142723513)</td>\n",
       "      <td>NaN</td>\n",
       "      <td>🙏</td>\n",
       "      <td>sticker</td>\n",
       "      <td>NaN</td>\n",
       "      <td>-1001142723513</td>\n",
       "    </tr>\n",
       "    <tr>\n",
       "      <th>4</th>\n",
       "      <td>382858</td>\n",
       "      <td>2024-10-25 17:00:55+00:00</td>\n",
       "      <td>PeerUser(user_id=599821131)</td>\n",
       "      <td>PeerChannel(channel_id=1142723513)</td>\n",
       "      <td>NaN</td>\n",
       "      <td>в сенсі молися</td>\n",
       "      <td>text</td>\n",
       "      <td>NaN</td>\n",
       "      <td>-1001142723513</td>\n",
       "    </tr>\n",
       "    <tr>\n",
       "      <th>5</th>\n",
       "      <td>382857</td>\n",
       "      <td>2024-10-25 17:00:43+00:00</td>\n",
       "      <td>PeerUser(user_id=509580698)</td>\n",
       "      <td>PeerChannel(channel_id=1142723513)</td>\n",
       "      <td>NaN</td>\n",
       "      <td>в сенсі суїциду чи..??</td>\n",
       "      <td>text</td>\n",
       "      <td>NaN</td>\n",
       "      <td>-1001142723513</td>\n",
       "    </tr>\n",
       "    <tr>\n",
       "      <th>6</th>\n",
       "      <td>382856</td>\n",
       "      <td>2024-10-25 17:00:09+00:00</td>\n",
       "      <td>PeerUser(user_id=599821131)</td>\n",
       "      <td>PeerChannel(channel_id=1142723513)</td>\n",
       "      <td>NaN</td>\n",
       "      <td>бог</td>\n",
       "      <td>text</td>\n",
       "      <td>NaN</td>\n",
       "      <td>-1001142723513</td>\n",
       "    </tr>\n",
       "    <tr>\n",
       "      <th>7</th>\n",
       "      <td>382855</td>\n",
       "      <td>2024-10-25 16:59:04+00:00</td>\n",
       "      <td>PeerUser(user_id=509580698)</td>\n",
       "      <td>PeerChannel(channel_id=1142723513)</td>\n",
       "      <td>NaN</td>\n",
       "      <td>а мене хто заадоптить..</td>\n",
       "      <td>text</td>\n",
       "      <td>NaN</td>\n",
       "      <td>-1001142723513</td>\n",
       "    </tr>\n",
       "    <tr>\n",
       "      <th>8</th>\n",
       "      <td>382854</td>\n",
       "      <td>2024-10-25 16:58:22+00:00</td>\n",
       "      <td>PeerUser(user_id=347398049)</td>\n",
       "      <td>PeerChannel(channel_id=1142723513)</td>\n",
       "      <td>NaN</td>\n",
       "      <td>NaN</td>\n",
       "      <td>photo</td>\n",
       "      <td>NaN</td>\n",
       "      <td>-1001142723513</td>\n",
       "    </tr>\n",
       "    <tr>\n",
       "      <th>9</th>\n",
       "      <td>382853</td>\n",
       "      <td>2024-10-25 16:58:15+00:00</td>\n",
       "      <td>PeerUser(user_id=599821131)</td>\n",
       "      <td>PeerChannel(channel_id=1142723513)</td>\n",
       "      <td>NaN</td>\n",
       "      <td>адопт мі</td>\n",
       "      <td>text</td>\n",
       "      <td>NaN</td>\n",
       "      <td>-1001142723513</td>\n",
       "    </tr>\n",
       "  </tbody>\n",
       "</table>\n",
       "</div>"
      ],
      "text/plain": [
       "       id                       date                      from_id  \\\n",
       "0  382863  2024-10-25 17:01:53+00:00  PeerUser(user_id=599821131)   \n",
       "1  382862  2024-10-25 17:01:23+00:00  PeerUser(user_id=256994245)   \n",
       "2  382860  2024-10-25 17:01:11+00:00  PeerUser(user_id=599821131)   \n",
       "3  382859  2024-10-25 17:01:03+00:00  PeerUser(user_id=599821131)   \n",
       "4  382858  2024-10-25 17:00:55+00:00  PeerUser(user_id=599821131)   \n",
       "5  382857  2024-10-25 17:00:43+00:00  PeerUser(user_id=509580698)   \n",
       "6  382856  2024-10-25 17:00:09+00:00  PeerUser(user_id=599821131)   \n",
       "7  382855  2024-10-25 16:59:04+00:00  PeerUser(user_id=509580698)   \n",
       "8  382854  2024-10-25 16:58:22+00:00  PeerUser(user_id=347398049)   \n",
       "9  382853  2024-10-25 16:58:15+00:00  PeerUser(user_id=599821131)   \n",
       "\n",
       "                                to_id fwd_from                  message  \\\n",
       "0  PeerChannel(channel_id=1142723513)      NaN                        🐵   \n",
       "1  PeerChannel(channel_id=1142723513)      NaN                        🤺   \n",
       "2  PeerChannel(channel_id=1142723513)      NaN      небо все тобі дасть   \n",
       "3  PeerChannel(channel_id=1142723513)      NaN                        🙏   \n",
       "4  PeerChannel(channel_id=1142723513)      NaN           в сенсі молися   \n",
       "5  PeerChannel(channel_id=1142723513)      NaN   в сенсі суїциду чи..??   \n",
       "6  PeerChannel(channel_id=1142723513)      NaN                      бог   \n",
       "7  PeerChannel(channel_id=1142723513)      NaN  а мене хто заадоптить..   \n",
       "8  PeerChannel(channel_id=1142723513)      NaN                      NaN   \n",
       "9  PeerChannel(channel_id=1142723513)      NaN                 адопт мі   \n",
       "\n",
       "      type  duration       dialog_id  \n",
       "0  sticker       NaN  -1001142723513  \n",
       "1  sticker       NaN  -1001142723513  \n",
       "2     text       NaN  -1001142723513  \n",
       "3  sticker       NaN  -1001142723513  \n",
       "4     text       NaN  -1001142723513  \n",
       "5     text       NaN  -1001142723513  \n",
       "6     text       NaN  -1001142723513  \n",
       "7     text       NaN  -1001142723513  \n",
       "8    photo       NaN  -1001142723513  \n",
       "9     text       NaN  -1001142723513  "
      ]
     },
     "execution_count": 20,
     "metadata": {},
     "output_type": "execute_result"
    }
   ],
   "source": [
    "df.head(10)"
   ]
  },
  {
   "cell_type": "code",
   "execution_count": 21,
   "id": "d1bd96f3",
   "metadata": {},
   "outputs": [
    {
     "data": {
      "text/plain": [
       "('2017-10-02 20:51:45+00:00', '2024-10-25 17:01:53+00:00')"
      ]
     },
     "execution_count": 21,
     "metadata": {},
     "output_type": "execute_result"
    }
   ],
   "source": [
    "min(df[\"date\"]),max(df[\"date\"])"
   ]
  },
  {
   "cell_type": "code",
   "execution_count": 22,
   "id": "2a1aafab",
   "metadata": {},
   "outputs": [
    {
     "data": {
      "text/plain": [
       "type\n",
       "photo       281849\n",
       "sticker      26690\n",
       "text       1306404\n",
       "video        45210\n",
       "voice        33888\n",
       "Name: type, dtype: int64"
      ]
     },
     "execution_count": 22,
     "metadata": {},
     "output_type": "execute_result"
    }
   ],
   "source": [
    "df.groupby([\"type\"])[\"type\"].count()"
   ]
  },
  {
   "cell_type": "code",
   "execution_count": 23,
   "id": "66a677a9",
   "metadata": {},
   "outputs": [
    {
     "data": {
      "text/plain": [
       "type\n",
       "photo      0.000000e+00\n",
       "sticker    0.000000e+00\n",
       "text       0.000000e+00\n",
       "video      1.287400e+06\n",
       "voice      1.149871e+06\n",
       "Name: duration, dtype: float64"
      ]
     },
     "execution_count": 23,
     "metadata": {},
     "output_type": "execute_result"
    }
   ],
   "source": [
    "df.groupby([\"type\"])[\"duration\"].sum()"
   ]
  },
  {
   "cell_type": "markdown",
   "id": "e24460df",
   "metadata": {},
   "source": [
    "## merging all dialogs_meta_data (json files) into one"
   ]
  },
  {
   "cell_type": "code",
   "execution_count": 24,
   "id": "3cecdc78",
   "metadata": {},
   "outputs": [],
   "source": [
    "df_array = []\n",
    "\n",
    "for d in dialogs_meta_data_files:\n",
    "    local_df = pd.read_json(d)\n",
    "    local_df = local_df.rename({'id': 'dialog_id'}, axis=1)\n",
    "    df_array.append(local_df)\n",
    "    \n",
    "df_meta = pd.concat(df_array, ignore_index=True)"
   ]
  },
  {
   "cell_type": "code",
   "execution_count": 25,
   "id": "6b458ce5",
   "metadata": {},
   "outputs": [],
   "source": [
    "df_meta.to_csv(f\"{MERGED_DATA_PATH}/dialogs_users_all.csv\", index=False)"
   ]
  },
  {
   "cell_type": "code",
   "execution_count": 26,
   "id": "313b23f0",
   "metadata": {},
   "outputs": [
    {
     "data": {
      "text/plain": [
       "(10356, 4)"
      ]
     },
     "execution_count": 26,
     "metadata": {},
     "output_type": "execute_result"
    }
   ],
   "source": [
    "df_meta.shape"
   ]
  },
  {
   "cell_type": "code",
   "execution_count": 27,
   "id": "ef6f51b9",
   "metadata": {},
   "outputs": [
    {
     "data": {
      "text/html": [
       "<div>\n",
       "<style scoped>\n",
       "    .dataframe tbody tr th:only-of-type {\n",
       "        vertical-align: middle;\n",
       "    }\n",
       "\n",
       "    .dataframe tbody tr th {\n",
       "        vertical-align: top;\n",
       "    }\n",
       "\n",
       "    .dataframe thead th {\n",
       "        text-align: right;\n",
       "    }\n",
       "</style>\n",
       "<table border=\"1\" class=\"dataframe\">\n",
       "  <thead>\n",
       "    <tr style=\"text-align: right;\">\n",
       "      <th></th>\n",
       "      <th>dialog_id</th>\n",
       "      <th>name</th>\n",
       "      <th>type</th>\n",
       "      <th>users</th>\n",
       "    </tr>\n",
       "  </thead>\n",
       "  <tbody>\n",
       "    <tr>\n",
       "      <th>0</th>\n",
       "      <td>-1001142723513</td>\n",
       "      <td>ФІ</td>\n",
       "      <td>Group</td>\n",
       "      <td>{'user_id': 679210513, 'first_name': 'Антон', ...</td>\n",
       "    </tr>\n",
       "    <tr>\n",
       "      <th>1</th>\n",
       "      <td>-1001142723513</td>\n",
       "      <td>ФІ</td>\n",
       "      <td>Group</td>\n",
       "      <td>{'user_id': 347624504, 'first_name': 'Настя Чи...</td>\n",
       "    </tr>\n",
       "    <tr>\n",
       "      <th>2</th>\n",
       "      <td>-1001142723513</td>\n",
       "      <td>ФІ</td>\n",
       "      <td>Group</td>\n",
       "      <td>{'user_id': 442570824, 'first_name': 'веронічк...</td>\n",
       "    </tr>\n",
       "    <tr>\n",
       "      <th>3</th>\n",
       "      <td>-1001142723513</td>\n",
       "      <td>ФІ</td>\n",
       "      <td>Group</td>\n",
       "      <td>{'user_id': 321298689, 'first_name': 'Денис Др...</td>\n",
       "    </tr>\n",
       "    <tr>\n",
       "      <th>4</th>\n",
       "      <td>-1001142723513</td>\n",
       "      <td>ФІ</td>\n",
       "      <td>Group</td>\n",
       "      <td>{'user_id': 1898640446, 'first_name': 'Артур',...</td>\n",
       "    </tr>\n",
       "    <tr>\n",
       "      <th>5</th>\n",
       "      <td>-1001142723513</td>\n",
       "      <td>ФІ</td>\n",
       "      <td>Group</td>\n",
       "      <td>{'user_id': 959076053, 'first_name': 'Настя', ...</td>\n",
       "    </tr>\n",
       "    <tr>\n",
       "      <th>6</th>\n",
       "      <td>-1001142723513</td>\n",
       "      <td>ФІ</td>\n",
       "      <td>Group</td>\n",
       "      <td>{'user_id': 1272391741, 'first_name': 'Ваня', ...</td>\n",
       "    </tr>\n",
       "    <tr>\n",
       "      <th>7</th>\n",
       "      <td>-1001142723513</td>\n",
       "      <td>ФІ</td>\n",
       "      <td>Group</td>\n",
       "      <td>{'user_id': 797970730, 'first_name': 'Valentin...</td>\n",
       "    </tr>\n",
       "    <tr>\n",
       "      <th>8</th>\n",
       "      <td>-1001142723513</td>\n",
       "      <td>ФІ</td>\n",
       "      <td>Group</td>\n",
       "      <td>{'user_id': 857650813, 'first_name': 'Никита💗'...</td>\n",
       "    </tr>\n",
       "    <tr>\n",
       "      <th>9</th>\n",
       "      <td>-1001142723513</td>\n",
       "      <td>ФІ</td>\n",
       "      <td>Group</td>\n",
       "      <td>{'user_id': 1021793326, 'first_name': 'настюша...</td>\n",
       "    </tr>\n",
       "  </tbody>\n",
       "</table>\n",
       "</div>"
      ],
      "text/plain": [
       "       dialog_id name   type  \\\n",
       "0 -1001142723513   ФІ  Group   \n",
       "1 -1001142723513   ФІ  Group   \n",
       "2 -1001142723513   ФІ  Group   \n",
       "3 -1001142723513   ФІ  Group   \n",
       "4 -1001142723513   ФІ  Group   \n",
       "5 -1001142723513   ФІ  Group   \n",
       "6 -1001142723513   ФІ  Group   \n",
       "7 -1001142723513   ФІ  Group   \n",
       "8 -1001142723513   ФІ  Group   \n",
       "9 -1001142723513   ФІ  Group   \n",
       "\n",
       "                                               users  \n",
       "0  {'user_id': 679210513, 'first_name': 'Антон', ...  \n",
       "1  {'user_id': 347624504, 'first_name': 'Настя Чи...  \n",
       "2  {'user_id': 442570824, 'first_name': 'веронічк...  \n",
       "3  {'user_id': 321298689, 'first_name': 'Денис Др...  \n",
       "4  {'user_id': 1898640446, 'first_name': 'Артур',...  \n",
       "5  {'user_id': 959076053, 'first_name': 'Настя', ...  \n",
       "6  {'user_id': 1272391741, 'first_name': 'Ваня', ...  \n",
       "7  {'user_id': 797970730, 'first_name': 'Valentin...  \n",
       "8  {'user_id': 857650813, 'first_name': 'Никита💗'...  \n",
       "9  {'user_id': 1021793326, 'first_name': 'настюша...  "
      ]
     },
     "execution_count": 27,
     "metadata": {},
     "output_type": "execute_result"
    }
   ],
   "source": [
    "df_meta.head(10)"
   ]
  },
  {
   "cell_type": "code",
   "execution_count": 28,
   "id": "186f2f67",
   "metadata": {},
   "outputs": [
    {
     "data": {
      "text/plain": [
       "type\n",
       "Group             10132\n",
       "Private dialog      224\n",
       "Name: type, dtype: int64"
      ]
     },
     "execution_count": 28,
     "metadata": {},
     "output_type": "execute_result"
    }
   ],
   "source": [
    "df_meta.groupby([\"type\"])[\"type\"].count()"
   ]
  },
  {
   "cell_type": "code",
   "execution_count": null,
   "id": "3469dff0-e214-43d4-9f05-71f7ce24e814",
   "metadata": {},
   "outputs": [],
   "source": []
  }
 ],
 "metadata": {
  "kernelspec": {
   "display_name": "Python 3 (ipykernel)",
   "language": "python",
   "name": "python3"
  },
  "language_info": {
   "codemirror_mode": {
    "name": "ipython",
    "version": 3
   },
   "file_extension": ".py",
   "mimetype": "text/x-python",
   "name": "python",
   "nbconvert_exporter": "python",
   "pygments_lexer": "ipython3",
   "version": "3.11.0"
  }
 },
 "nbformat": 4,
 "nbformat_minor": 5
}
